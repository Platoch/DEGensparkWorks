{
 "cells": [
  {
   "cell_type": "code",
   "execution_count": 1,
   "metadata": {},
   "outputs": [],
   "source": [
    "def rotatelist():\n",
    "    ls = []\n",
    "    n = int(input(\"Enter the length of the list you want to make>>  \"))\n",
    "    for i in range(n):\n",
    "        x = int(input(f'Enter the element {i+1} of the list>>  '))\n",
    "        ls.append(x)\n",
    "    k = int(input(\"How many rotation do you want?>> \"))\n",
    "    \n",
    "    for i in range(k):\n",
    "        last = ls[-1]\n",
    "        ls.pop()\n",
    "        ls.insert(0, last)\n",
    "\n",
    "    return ls"
   ]
  },
  {
   "cell_type": "code",
   "execution_count": 2,
   "metadata": {},
   "outputs": [
    {
     "name": "stdout",
     "output_type": "stream",
     "text": [
      "Enter the length of the list you want to make>>  5\n",
      "Enter the element 1 of the list>>  1\n",
      "Enter the element 2 of the list>>  2\n",
      "Enter the element 3 of the list>>  3\n",
      "Enter the element 4 of the list>>  4\n",
      "Enter the element 5 of the list>>  5\n",
      "How many rotation do you want?>> 3\n"
     ]
    },
    {
     "data": {
      "text/plain": [
       "[3, 4, 5, 1, 2]"
      ]
     },
     "execution_count": 2,
     "metadata": {},
     "output_type": "execute_result"
    }
   ],
   "source": [
    "rotatelist()"
   ]
  },
  {
   "cell_type": "code",
   "execution_count": 4,
   "metadata": {},
   "outputs": [
    {
     "name": "stdout",
     "output_type": "stream",
     "text": [
      "Enter the length of the list you want to make>>  5\n",
      "Enter the element 1 of the list>>  1\n",
      "Enter the element 2 of the list>>  2\n",
      "Enter the element 3 of the list>>  3\n",
      "Enter the element 4 of the list>>  4\n",
      "Enter the element 5 of the list>>  5\n",
      "How many rotation do you want?>> 5\n"
     ]
    },
    {
     "data": {
      "text/plain": [
       "[1, 2, 3, 4, 5]"
      ]
     },
     "execution_count": 4,
     "metadata": {},
     "output_type": "execute_result"
    }
   ],
   "source": [
    "rotatelist()"
   ]
  },
  {
   "cell_type": "code",
   "execution_count": 5,
   "metadata": {},
   "outputs": [
    {
     "name": "stdout",
     "output_type": "stream",
     "text": [
      "Enter the length of the list you want to make>>  6\n",
      "Enter the element 1 of the list>>  5\n",
      "Enter the element 2 of the list>>  4\n",
      "Enter the element 3 of the list>>  2\n",
      "Enter the element 4 of the list>>  3\n",
      "Enter the element 5 of the list>>  8\n",
      "Enter the element 6 of the list>>  9\n",
      "How many rotation do you want?>> 4\n"
     ]
    },
    {
     "data": {
      "text/plain": [
       "[2, 3, 8, 9, 5, 4]"
      ]
     },
     "execution_count": 5,
     "metadata": {},
     "output_type": "execute_result"
    }
   ],
   "source": [
    "rotatelist()"
   ]
  }
 ],
 "metadata": {
  "kernelspec": {
   "display_name": "Python 3",
   "language": "python",
   "name": "python3"
  },
  "language_info": {
   "codemirror_mode": {
    "name": "ipython",
    "version": 3
   },
   "file_extension": ".py",
   "mimetype": "text/x-python",
   "name": "python",
   "nbconvert_exporter": "python",
   "pygments_lexer": "ipython3",
   "version": "3.8.5"
  }
 },
 "nbformat": 4,
 "nbformat_minor": 4
}
