{
 "cells": [
  {
   "cell_type": "code",
   "execution_count": 5,
   "metadata": {},
   "outputs": [],
   "source": [
    "from collections import Counter\n",
    "def characterCount():\n",
    "    string = input('Enter a string>>  ')\n",
    "    counts = Counter(string)\n",
    "    return dict(counts)"
   ]
  },
  {
   "cell_type": "code",
   "execution_count": 6,
   "metadata": {},
   "outputs": [
    {
     "name": "stdout",
     "output_type": "stream",
     "text": [
      "Enter a string>>  hippopotamus\n"
     ]
    },
    {
     "data": {
      "text/plain": [
       "{'h': 1, 'i': 1, 'p': 3, 'o': 2, 't': 1, 'a': 1, 'm': 1, 'u': 1, 's': 1}"
      ]
     },
     "execution_count": 6,
     "metadata": {},
     "output_type": "execute_result"
    }
   ],
   "source": [
    "characterCount()"
   ]
  },
  {
   "cell_type": "code",
   "execution_count": 7,
   "metadata": {},
   "outputs": [
    {
     "name": "stdout",
     "output_type": "stream",
     "text": [
      "Enter a string>>  don't mess with texas\n"
     ]
    },
    {
     "data": {
      "text/plain": [
       "{'d': 1,\n",
       " 'o': 1,\n",
       " 'n': 1,\n",
       " \"'\": 1,\n",
       " 't': 3,\n",
       " ' ': 3,\n",
       " 'm': 1,\n",
       " 'e': 2,\n",
       " 's': 3,\n",
       " 'w': 1,\n",
       " 'i': 1,\n",
       " 'h': 1,\n",
       " 'x': 1,\n",
       " 'a': 1}"
      ]
     },
     "execution_count": 7,
     "metadata": {},
     "output_type": "execute_result"
    }
   ],
   "source": [
    "characterCount()"
   ]
  }
 ],
 "metadata": {
  "kernelspec": {
   "display_name": "Python 3",
   "language": "python",
   "name": "python3"
  },
  "language_info": {
   "codemirror_mode": {
    "name": "ipython",
    "version": 3
   },
   "file_extension": ".py",
   "mimetype": "text/x-python",
   "name": "python",
   "nbconvert_exporter": "python",
   "pygments_lexer": "ipython3",
   "version": "3.8.5"
  }
 },
 "nbformat": 4,
 "nbformat_minor": 4
}
