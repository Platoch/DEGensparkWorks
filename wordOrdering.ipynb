{
 "cells": [
  {
   "cell_type": "code",
   "execution_count": 5,
   "metadata": {},
   "outputs": [],
   "source": [
    "def wordOrdering():\n",
    "    phrase =  input('Enter your sentence>>  ')\n",
    "    phraseList = phrase.split()\n",
    "    phraseDict = {}\n",
    "    \n",
    "    for word in phraseList:\n",
    "        phraseDict[word] = len(word)\n",
    "    phraseDict = {k:v for k,v  in sorted(phraseDict.items(), key = lambda item : item[1], reverse=True)}\n",
    "    \n",
    "    return phraseDict"
   ]
  },
  {
   "cell_type": "code",
   "execution_count": 6,
   "metadata": {},
   "outputs": [
    {
     "name": "stdout",
     "output_type": "stream",
     "text": [
      "Enter your sentence>>  Banana, apple and watermelon constitute good sources of minerals\n"
     ]
    },
    {
     "data": {
      "text/plain": [
       "{'watermelon': 10,\n",
       " 'constitute': 10,\n",
       " 'minerals': 8,\n",
       " 'Banana,': 7,\n",
       " 'sources': 7,\n",
       " 'apple': 5,\n",
       " 'good': 4,\n",
       " 'and': 3,\n",
       " 'of': 2}"
      ]
     },
     "execution_count": 6,
     "metadata": {},
     "output_type": "execute_result"
    }
   ],
   "source": [
    "wordOrdering()"
   ]
  },
  {
   "cell_type": "code",
   "execution_count": null,
   "metadata": {},
   "outputs": [],
   "source": []
  },
  {
   "cell_type": "code",
   "execution_count": null,
   "metadata": {},
   "outputs": [],
   "source": []
  }
 ],
 "metadata": {
  "kernelspec": {
   "display_name": "Python 3",
   "language": "python",
   "name": "python3"
  },
  "language_info": {
   "codemirror_mode": {
    "name": "ipython",
    "version": 3
   },
   "file_extension": ".py",
   "mimetype": "text/x-python",
   "name": "python",
   "nbconvert_exporter": "python",
   "pygments_lexer": "ipython3",
   "version": "3.8.5"
  }
 },
 "nbformat": 4,
 "nbformat_minor": 4
}
